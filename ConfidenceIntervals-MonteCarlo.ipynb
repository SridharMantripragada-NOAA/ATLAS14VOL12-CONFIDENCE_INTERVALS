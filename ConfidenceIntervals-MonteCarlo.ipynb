{
 "cells": [
  {
   "cell_type": "code",
   "execution_count": 1,
   "id": "a07f1e6f-4949-4577-b085-5e1c6a396cbc",
   "metadata": {},
   "outputs": [],
   "source": [
    "from pathlib import Path\n",
    "import pandas as pd\n",
    "import numpy as np\n",
    "import xarray as xr\n",
    "import math\n",
    "import matplotlib.pyplot as plt\n",
    "from lmoments3 import distr\n",
    "\n",
    "from modules.api import load_config, extract_regions, extract_coloc \n",
    "from modules.api import corrmatrix, samlmomgev, Simulation"
   ]
  },
  {
   "cell_type": "code",
   "execution_count": 2,
   "id": "a0d94449-ec76-43bd-80c7-59a76e02fcdc",
   "metadata": {},
   "outputs": [],
   "source": [
    "# Load parameters from config file\n",
    "config = load_config(Path('config.json'))\n",
    "dir_root = config['dir_root']\n",
    "region_file = config['region_file']\n",
    "prism_file = config['prism_file']\n",
    "meta_file = config['meta_file']\n",
    "coloc_file = config['coloc_file']\n",
    "ARI = np.array(config['ARI']) # Average Recurrence Interval\n",
    "aep = 1 - 1/ARI  # Annual Exceedance Probability\n",
    "base_durations = config['base_durations']\n",
    "prism_durations = config['prism_durations']\n",
    "nsim = config['nsim'] # Number of Monte Carlo Simulations\n",
    "boundprob = config['boundprob'] # 90% CI\n",
    "nmom = config['nmom'] # number of L-moments"
   ]
  },
  {
   "cell_type": "markdown",
   "id": "65102fe5-7424-487b-9ee2-f28c34c8bec1",
   "metadata": {},
   "source": [
    "#### Read metadata and Co-locations"
   ]
  },
  {
   "cell_type": "code",
   "execution_count": 3,
   "id": "7a3cf067-a611-4bfd-8cb4-06b6b222d466",
   "metadata": {},
   "outputs": [],
   "source": [
    "df_meta = pd.read_parquet(Path(meta_file), engine='pyarrow')\n",
    "coloc = extract_coloc(coloc_file)"
   ]
  },
  {
   "cell_type": "markdown",
   "id": "d1b892af-1fdd-4c2a-8bef-2ad8b589afc7",
   "metadata": {},
   "source": [
    "#### Read PRISM MAM"
   ]
  },
  {
   "cell_type": "code",
   "execution_count": 4,
   "id": "573be29f-56ad-46ee-8b56-60e011edb17a",
   "metadata": {},
   "outputs": [],
   "source": [
    "prism_mam_df = pd.read_csv(Path(prism_file), sep = '\\s+')\n",
    "prism_mam_df = prism_mam_df.rename(columns={'Site_ID': 'HDSC'}).set_index('HDSC', drop=True)"
   ]
  },
  {
   "cell_type": "markdown",
   "id": "2b926fcd-a943-488b-868b-12610d70eae0",
   "metadata": {},
   "source": [
    "#### Read regionalization data"
   ]
  },
  {
   "cell_type": "code",
   "execution_count": 5,
   "id": "893d5eeb-ae8a-4c32-a077-336566458944",
   "metadata": {},
   "outputs": [],
   "source": [
    "sids, regions = extract_regions(Path(region_file))"
   ]
  },
  {
   "cell_type": "markdown",
   "id": "3c6282f9-a295-47f9-bc35-e24c665e1013",
   "metadata": {},
   "source": [
    "#### Subset ID, WY, and MT stations and exclude the buffer stations"
   ]
  },
  {
   "cell_type": "code",
   "execution_count": 6,
   "id": "056678e4-460c-48fb-b790-2de5ddd628d3",
   "metadata": {},
   "outputs": [],
   "source": [
    "# sids = coloc[(coloc['HDSC_ID'].isin(sids)) & (coloc['ST'].isin(['ID', 'WY', 'MT']))]['HDSC_ID'].unique()\n",
    "df_meta1 = pd.concat([df_meta[df_meta['HDSC'] == sid] for sid in sids])\n",
    "lat = df_meta1['LAT'].values\n",
    "lon = df_meta1['LON'].values"
   ]
  },
  {
   "cell_type": "markdown",
   "id": "0a001c9b-70bc-46c8-a375-4c2ac7058e65",
   "metadata": {},
   "source": [
    "#### Enter Reference station, base duration, and prism duration from the below list\n",
    "\n",
    "base_durations: [\"60m\", \"06h\", \"24h\", \"04d\", \"10d\", \"30d\", \"60d\"]  \n",
    "\n",
    "prism_durations: [\"60min\", \"6hr\", \"24hr\", \"4day\", \"10day\", \"30day\", \"60day\"]"
   ]
  },
  {
   "cell_type": "code",
   "execution_count": 7,
   "id": "5445e96a-45f9-41fe-abfb-c856599d97dd",
   "metadata": {},
   "outputs": [],
   "source": [
    "base = '60m'\n",
    "prism_duration = '60min'\n",
    "sid = '86-1045' #sids[30]"
   ]
  },
  {
   "cell_type": "markdown",
   "id": "49a2b6d5-35f6-4514-a362-a182f353d506",
   "metadata": {},
   "source": [
    "#### Read AMS and PRISM MAM for all the sites in a region"
   ]
  },
  {
   "cell_type": "code",
   "execution_count": 8,
   "id": "499cf33f-99c5-468a-9a74-5dd440c111ac",
   "metadata": {},
   "outputs": [],
   "source": [
    "ams_df = pd.read_parquet(Path(dir_root, f'df_ams_{base}.parquet.snappy'), engine='pyarrow')\n",
    "ams_df = ams_df.join(df_meta['HDSC'])\n",
    "ams_df = ams_df.set_index('HDSC', drop=True)\n",
    "sid_region = [sid] + regions[sid]\n",
    "# Extract AMS for all stations in a region\n",
    "ams = ams_df[ams_df.index.isin(sid_region)].copy()\n",
    "# Get PRISM MAM\n",
    "mam_prism = prism_mam_df[prism_mam_df.index.isin(sid_region)][prism_duration].copy()"
   ]
  },
  {
   "cell_type": "markdown",
   "id": "e6d0782f-f893-469d-b355-d9e7b3b1edd4",
   "metadata": {},
   "source": [
    "#### Calculate the at-site L-moments and GEV parameters"
   ]
  },
  {
   "cell_type": "code",
   "execution_count": 9,
   "id": "281b3f0b-7b7c-4153-8718-ba2718bf7b58",
   "metadata": {},
   "outputs": [],
   "source": [
    "lmoms, paras = samlmomgev(ams, mam_prism)"
   ]
  },
  {
   "cell_type": "code",
   "execution_count": 10,
   "id": "f93e8209-870f-4260-a803-4a3d995c1b9e",
   "metadata": {},
   "outputs": [
    {
     "data": {
      "text/html": [
       "<div>\n",
       "<style scoped>\n",
       "    .dataframe tbody tr th:only-of-type {\n",
       "        vertical-align: middle;\n",
       "    }\n",
       "\n",
       "    .dataframe tbody tr th {\n",
       "        vertical-align: top;\n",
       "    }\n",
       "\n",
       "    .dataframe thead th {\n",
       "        text-align: right;\n",
       "    }\n",
       "</style>\n",
       "<table border=\"1\" class=\"dataframe\">\n",
       "  <thead>\n",
       "    <tr style=\"text-align: right;\">\n",
       "      <th></th>\n",
       "      <th>n</th>\n",
       "      <th>mean</th>\n",
       "      <th>l1</th>\n",
       "      <th>l2</th>\n",
       "      <th>t</th>\n",
       "      <th>t3</th>\n",
       "      <th>t4</th>\n",
       "      <th>t5</th>\n",
       "    </tr>\n",
       "    <tr>\n",
       "      <th>HDSC</th>\n",
       "      <th></th>\n",
       "      <th></th>\n",
       "      <th></th>\n",
       "      <th></th>\n",
       "      <th></th>\n",
       "      <th></th>\n",
       "      <th></th>\n",
       "      <th></th>\n",
       "    </tr>\n",
       "  </thead>\n",
       "  <tbody>\n",
       "    <tr>\n",
       "      <th>57-0017</th>\n",
       "      <td>23</td>\n",
       "      <td>0.8724</td>\n",
       "      <td>0.870100</td>\n",
       "      <td>0.199782</td>\n",
       "      <td>0.229608</td>\n",
       "      <td>0.062183</td>\n",
       "      <td>0.066845</td>\n",
       "      <td>-0.048446</td>\n",
       "    </tr>\n",
       "    <tr>\n",
       "      <th>79-0018</th>\n",
       "      <td>75</td>\n",
       "      <td>0.9217</td>\n",
       "      <td>0.925847</td>\n",
       "      <td>0.250412</td>\n",
       "      <td>0.270468</td>\n",
       "      <td>0.280239</td>\n",
       "      <td>0.231072</td>\n",
       "      <td>0.167051</td>\n",
       "    </tr>\n",
       "    <tr>\n",
       "      <th>79-0021</th>\n",
       "      <td>57</td>\n",
       "      <td>0.6059</td>\n",
       "      <td>0.605244</td>\n",
       "      <td>0.159269</td>\n",
       "      <td>0.263149</td>\n",
       "      <td>0.196653</td>\n",
       "      <td>0.142432</td>\n",
       "      <td>0.046517</td>\n",
       "    </tr>\n",
       "    <tr>\n",
       "      <th>86-0322</th>\n",
       "      <td>22</td>\n",
       "      <td>0.5445</td>\n",
       "      <td>0.436591</td>\n",
       "      <td>0.085361</td>\n",
       "      <td>0.195518</td>\n",
       "      <td>0.273352</td>\n",
       "      <td>0.113558</td>\n",
       "      <td>-0.118082</td>\n",
       "    </tr>\n",
       "    <tr>\n",
       "      <th>86-0718</th>\n",
       "      <td>17</td>\n",
       "      <td>0.5031</td>\n",
       "      <td>0.498529</td>\n",
       "      <td>0.122140</td>\n",
       "      <td>0.245000</td>\n",
       "      <td>0.417687</td>\n",
       "      <td>0.289601</td>\n",
       "      <td>0.107797</td>\n",
       "    </tr>\n",
       "    <tr>\n",
       "      <th>86-1045</th>\n",
       "      <td>16</td>\n",
       "      <td>0.6276</td>\n",
       "      <td>0.565000</td>\n",
       "      <td>0.117708</td>\n",
       "      <td>0.208333</td>\n",
       "      <td>0.109714</td>\n",
       "      <td>0.117363</td>\n",
       "      <td>-0.101978</td>\n",
       "    </tr>\n",
       "  </tbody>\n",
       "</table>\n",
       "</div>"
      ],
      "text/plain": [
       "          n    mean        l1        l2         t        t3        t4  \\\n",
       "HDSC                                                                    \n",
       "57-0017  23  0.8724  0.870100  0.199782  0.229608  0.062183  0.066845   \n",
       "79-0018  75  0.9217  0.925847  0.250412  0.270468  0.280239  0.231072   \n",
       "79-0021  57  0.6059  0.605244  0.159269  0.263149  0.196653  0.142432   \n",
       "86-0322  22  0.5445  0.436591  0.085361  0.195518  0.273352  0.113558   \n",
       "86-0718  17  0.5031  0.498529  0.122140  0.245000  0.417687  0.289601   \n",
       "86-1045  16  0.6276  0.565000  0.117708  0.208333  0.109714  0.117363   \n",
       "\n",
       "               t5  \n",
       "HDSC               \n",
       "57-0017 -0.048446  \n",
       "79-0018  0.167051  \n",
       "79-0021  0.046517  \n",
       "86-0322 -0.118082  \n",
       "86-0718  0.107797  \n",
       "86-1045 -0.101978  "
      ]
     },
     "execution_count": 10,
     "metadata": {},
     "output_type": "execute_result"
    }
   ],
   "source": [
    "lmoms"
   ]
  },
  {
   "cell_type": "markdown",
   "id": "24fa30bf-75b9-42a6-b7db-d4252dc16e9f",
   "metadata": {},
   "source": [
    "#### Average inter-site correleation coefficient.\n",
    "##### This is used to create a synthetic correleated AMS for the sites to be used in Monte Carlo Simulations"
   ]
  },
  {
   "cell_type": "code",
   "execution_count": 11,
   "id": "38244ef4-77fa-4283-aebe-5ef50029a4b3",
   "metadata": {},
   "outputs": [
    {
     "name": "stdout",
     "output_type": "stream",
     "text": [
      "Average inter-site correleation coefficient: 0.1640856169770485\n",
      "Standard deviation of rho: 0.1265161974443776\n"
     ]
    }
   ],
   "source": [
    "rho, sd_rho = corrmatrix(ams)\n",
    "print(f'Average inter-site correleation coefficient: {rho}')\n",
    "print(f'Standard deviation of rho: {sd_rho}')"
   ]
  },
  {
   "cell_type": "markdown",
   "id": "a3a758ca-9719-47cc-8897-d133fa1700e3",
   "metadata": {},
   "source": [
    "#### Run Monte Carlo Simulation"
   ]
  },
  {
   "cell_type": "code",
   "execution_count": 12,
   "id": "52d90285-afd3-4963-ad13-ac6c35ea3e14",
   "metadata": {},
   "outputs": [
    {
     "name": "stdout",
     "output_type": "stream",
     "text": [
      "Reference Station MAM: 0.6276\n"
     ]
    }
   ],
   "source": [
    "smam = mam_prism.loc[sid]\n",
    "if np.isnan(smam):\n",
    "    if sid not in lmoms.index:\n",
    "        print(f'No MAM for {sid} at {base} duration. Therefore do not proceed further.')\n",
    "    else:\n",
    "        smam = lmoms.loc[sid]['mean']\n",
    "print(f'Reference Station MAM: {smam}')"
   ]
  },
  {
   "cell_type": "code",
   "execution_count": 13,
   "id": "82aee222-2034-429c-aca8-d058931ae075",
   "metadata": {},
   "outputs": [],
   "source": [
    "distributions = [distr.gev, distr.gno, distr.glo, distr.pe3] "
   ]
  },
  {
   "cell_type": "code",
   "execution_count": null,
   "id": "7dc3d6bf-ab67-406c-bc28-a1b7f441e1cc",
   "metadata": {},
   "outputs": [],
   "source": [
    "sim = Simulation(sid, base, rho, sd_rho, ARI, lmoms, smam, nsim, distributions, boundprob)\n",
    "sim.run_simulations()\n",
    "quantile, lbound, ubound = sim.bounds()"
   ]
  },
  {
   "cell_type": "code",
   "execution_count": null,
   "id": "646f697e-a6b2-46e8-b1ad-9e1645def6e4",
   "metadata": {},
   "outputs": [],
   "source": [
    "lbound, quantile, ubound"
   ]
  },
  {
   "cell_type": "code",
   "execution_count": null,
   "id": "e2fc5f28-4764-4f7b-9f26-d067ed3bf506",
   "metadata": {},
   "outputs": [],
   "source": [
    "lbound/quantile, ubound/quantile"
   ]
  },
  {
   "cell_type": "code",
   "execution_count": null,
   "id": "bd41a1f8-4081-48bc-b426-d3715060a7df",
   "metadata": {},
   "outputs": [],
   "source": [
    "# Plotting\n",
    "fig = plt.gcf()\n",
    "plt.figure(figsize=(12, 8))\n",
    "plt.plot(ARI, quantile, linewidth=2, label='Regional GEV')\n",
    "plt.plot(ARI, lbound, '--', color='red', linewidth=1, label='MonteCarlo Lower Bound')\n",
    "plt.plot(ARI, ubound, '-.', color='red', linewidth=1, label='MonteCarlo Upper Bound')\n",
    "plt.xscale('log')\n",
    "plt.xticks(ARI, ['2yr', '25yr', '100yr', '1000yr'], rotation=0);\n",
    "plt.xlabel('Average Recurrence Interval (years)')\n",
    "plt.ylabel('Return Level (inches)')\n",
    "plt.title(f'ARI vs Return Level with 90% Confidence Intervals  ||  Duration: {base}  ||  HDSC-ID: {sid}')\n",
    "plt.legend()\n",
    "plt.grid(True)\n",
    "fig.subplots_adjust(right=0.85)  "
   ]
  },
  {
   "cell_type": "code",
   "execution_count": null,
   "id": "e8750694-46f0-4f03-91c6-173c066037d0",
   "metadata": {},
   "outputs": [],
   "source": [
    "# Plotting\n",
    "fig = plt.gcf()\n",
    "plt.figure(figsize=(12, 8))\n",
    "# plt.plot(ARI, quantile, linewidth=2, label='Regional GEV')\n",
    "plt.plot(ARI, lbound/quantile, '--', color='red', linewidth=1, label='MonteCarlo Lower Bound')\n",
    "plt.plot(ARI, ubound/quantile, '-.', color='red', linewidth=1, label='MonteCarlo Upper Bound')\n",
    "plt.xscale('log')\n",
    "plt.xticks(ARI, ['2yr', '25yr', '100yr', '1000yr'], rotation=0);\n",
    "plt.xlabel('Average Recurrence Interval (years)')\n",
    "plt.ylabel('Return Level (inches)')\n",
    "plt.title(f'ARI vs Return Level with 90% Confidence Intervals  ||  Duration: {base}  ||  HDSC-ID: {sid}')\n",
    "plt.legend()\n",
    "plt.grid(True)\n",
    "fig.subplots_adjust(right=0.85)  "
   ]
  },
  {
   "cell_type": "code",
   "execution_count": null,
   "id": "b0bdb841-2ebe-4601-9dd3-769843d4069f",
   "metadata": {},
   "outputs": [],
   "source": []
  }
 ],
 "metadata": {
  "kernelspec": {
   "display_name": "cibounds",
   "language": "python",
   "name": "cibounds"
  },
  "language_info": {
   "codemirror_mode": {
    "name": "ipython",
    "version": 3
   },
   "file_extension": ".py",
   "mimetype": "text/x-python",
   "name": "python",
   "nbconvert_exporter": "python",
   "pygments_lexer": "ipython3",
   "version": "3.10.14"
  }
 },
 "nbformat": 4,
 "nbformat_minor": 5
}
